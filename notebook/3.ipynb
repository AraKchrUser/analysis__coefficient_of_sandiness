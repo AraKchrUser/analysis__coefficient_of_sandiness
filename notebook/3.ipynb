{
 "cells": [
  {
   "cell_type": "code",
   "execution_count": 1,
   "metadata": {
    "colab": {
     "base_uri": "https://localhost:8080/"
    },
    "id": "uZdzqeA6pe1W",
    "outputId": "9fbbecfa-d763-488e-aab3-44742b27e6e3"
   },
   "outputs": [],
   "source": [
    "# !pip install scikit-optimize"
   ]
  },
  {
   "cell_type": "code",
   "execution_count": 2,
   "metadata": {
    "colab": {
     "base_uri": "https://localhost:8080/"
    },
    "id": "4KcFyjLAp02G",
    "outputId": "e5112b24-42f0-4a55-b8b3-bd8432b62736"
   },
   "outputs": [],
   "source": [
    "# !pip install catboost"
   ]
  },
  {
   "cell_type": "code",
   "execution_count": 3,
   "metadata": {
    "colab": {
     "base_uri": "https://localhost:8080/"
    },
    "id": "BGyvm2eyq_Ua",
    "outputId": "ab725d21-de66-4e7f-8951-59590d16e963"
   },
   "outputs": [],
   "source": [
    "# !pip install featuretools"
   ]
  },
  {
   "cell_type": "code",
   "execution_count": 5,
   "metadata": {
    "id": "ubJ-z4bjrFSa"
   },
   "outputs": [],
   "source": [
    "import numpy as np\n",
    "import pandas as pd\n",
    "import matplotlib.pyplot as plt\n",
    "import seaborn as sns\n",
    "from sklearn.model_selection import train_test_split\n",
    "from sklearn.metrics import mean_squared_error\n",
    "from google.colab import files\n",
    "import io\n",
    "from catboost import CatBoostRegressor\n",
    "import featuretools as ft\n",
    "import warnings\n",
    "warnings.filterwarnings('ignore')\n",
    "\n",
    "\n",
    "import time\n",
    "from skopt import gp_minimize\n",
    "from skopt.space import Real, Integer\n",
    "from skopt.utils import use_named_args\n",
    "from skopt.plots import plot_convergence\n"
   ]
  },
  {
   "cell_type": "markdown",
   "metadata": {
    "id": "RZfgawPG0NwU"
   },
   "source": [
    "#  **Импорт данных**"
   ]
  },
  {
   "cell_type": "code",
   "execution_count": 6,
   "metadata": {
    "colab": {
     "base_uri": "https://localhost:8080/",
     "height": 259,
     "resources": {
      "http://localhost:8080/nbextensions/google.colab/files.js": {
       "data": "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",
       "headers": [
        [
         "content-type",
         "application/javascript"
        ]
       ],
       "ok": true,
       "status": 200,
       "status_text": ""
      }
     }
    },
    "id": "94ZwmyLpt596",
    "outputId": "a069274d-e97d-4e42-bdcc-6cdd4eacb5c7"
   },
   "outputs": [
    {
     "data": {
      "text/html": [
       "\n",
       "     <input type=\"file\" id=\"files-28118190-72ae-49ed-bd48-1e40bc2b2876\" name=\"files[]\" multiple disabled\n",
       "        style=\"border:none\" />\n",
       "     <output id=\"result-28118190-72ae-49ed-bd48-1e40bc2b2876\">\n",
       "      Upload widget is only available when the cell has been executed in the\n",
       "      current browser session. Please rerun this cell to enable.\n",
       "      </output>\n",
       "      <script src=\"/nbextensions/google.colab/files.js\"></script> "
      ],
      "text/plain": [
       "<IPython.core.display.HTML object>"
      ]
     },
     "metadata": {
      "tags": []
     },
     "output_type": "display_data"
    },
    {
     "name": "stdout",
     "output_type": "stream",
     "text": [
      "Saving Training_wells.csv to Training_wells.csv\n"
     ]
    },
    {
     "data": {
      "text/html": [
       "<div>\n",
       "<style scoped>\n",
       "    .dataframe tbody tr th:only-of-type {\n",
       "        vertical-align: middle;\n",
       "    }\n",
       "\n",
       "    .dataframe tbody tr th {\n",
       "        vertical-align: top;\n",
       "    }\n",
       "\n",
       "    .dataframe thead th {\n",
       "        text-align: right;\n",
       "    }\n",
       "</style>\n",
       "<table border=\"1\" class=\"dataframe\">\n",
       "  <thead>\n",
       "    <tr style=\"text-align: right;\">\n",
       "      <th></th>\n",
       "      <th>Well</th>\n",
       "      <th>X</th>\n",
       "      <th>Y</th>\n",
       "      <th>NTG</th>\n",
       "    </tr>\n",
       "  </thead>\n",
       "  <tbody>\n",
       "    <tr>\n",
       "      <th>0</th>\n",
       "      <td>201-907</td>\n",
       "      <td>201</td>\n",
       "      <td>907</td>\n",
       "      <td>0.2006</td>\n",
       "    </tr>\n",
       "    <tr>\n",
       "      <th>1</th>\n",
       "      <td>201-914</td>\n",
       "      <td>201</td>\n",
       "      <td>914</td>\n",
       "      <td>0.3624</td>\n",
       "    </tr>\n",
       "    <tr>\n",
       "      <th>2</th>\n",
       "      <td>201-924</td>\n",
       "      <td>201</td>\n",
       "      <td>924</td>\n",
       "      <td>0.4381</td>\n",
       "    </tr>\n",
       "    <tr>\n",
       "      <th>3</th>\n",
       "      <td>202-922</td>\n",
       "      <td>202</td>\n",
       "      <td>922</td>\n",
       "      <td>0.4289</td>\n",
       "    </tr>\n",
       "    <tr>\n",
       "      <th>4</th>\n",
       "      <td>202-925</td>\n",
       "      <td>202</td>\n",
       "      <td>925</td>\n",
       "      <td>0.4021</td>\n",
       "    </tr>\n",
       "  </tbody>\n",
       "</table>\n",
       "</div>"
      ],
      "text/plain": [
       "      Well    X    Y     NTG\n",
       "0  201-907  201  907  0.2006\n",
       "1  201-914  201  914  0.3624\n",
       "2  201-924  201  924  0.4381\n",
       "3  202-922  202  922  0.4289\n",
       "4  202-925  202  925  0.4021"
      ]
     },
     "execution_count": 6,
     "metadata": {
      "tags": []
     },
     "output_type": "execute_result"
    }
   ],
   "source": [
    "uploaded = files.upload()\n",
    "df = pd.read_csv(io.BytesIO(uploaded['Training_wells.csv']))\n",
    "\n",
    "df.head()"
   ]
  },
  {
   "cell_type": "code",
   "execution_count": 7,
   "metadata": {
    "colab": {
     "base_uri": "https://localhost:8080/",
     "height": 259,
     "resources": {
      "http://localhost:8080/nbextensions/google.colab/files.js": {
       "data": "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",
       "headers": [
        [
         "content-type",
         "application/javascript"
        ]
       ],
       "ok": true,
       "status": 200,
       "status_text": ""
      }
     }
    },
    "id": "9ZMdlVTLt91n",
    "outputId": "c68229cb-ff75-4db6-f3bb-41f9b0236d30"
   },
   "outputs": [
    {
     "data": {
      "text/html": [
       "\n",
       "     <input type=\"file\" id=\"files-b374abea-7d17-42d8-b4db-4c1897451bb1\" name=\"files[]\" multiple disabled\n",
       "        style=\"border:none\" />\n",
       "     <output id=\"result-b374abea-7d17-42d8-b4db-4c1897451bb1\">\n",
       "      Upload widget is only available when the cell has been executed in the\n",
       "      current browser session. Please rerun this cell to enable.\n",
       "      </output>\n",
       "      <script src=\"/nbextensions/google.colab/files.js\"></script> "
      ],
      "text/plain": [
       "<IPython.core.display.HTML object>"
      ]
     },
     "metadata": {
      "tags": []
     },
     "output_type": "display_data"
    },
    {
     "name": "stdout",
     "output_type": "stream",
     "text": [
      "Saving Empty_part.csv to Empty_part.csv\n"
     ]
    },
    {
     "data": {
      "text/html": [
       "<div>\n",
       "<style scoped>\n",
       "    .dataframe tbody tr th:only-of-type {\n",
       "        vertical-align: middle;\n",
       "    }\n",
       "\n",
       "    .dataframe tbody tr th {\n",
       "        vertical-align: top;\n",
       "    }\n",
       "\n",
       "    .dataframe thead th {\n",
       "        text-align: right;\n",
       "    }\n",
       "</style>\n",
       "<table border=\"1\" class=\"dataframe\">\n",
       "  <thead>\n",
       "    <tr style=\"text-align: right;\">\n",
       "      <th></th>\n",
       "      <th>Well</th>\n",
       "      <th>X</th>\n",
       "      <th>Y</th>\n",
       "    </tr>\n",
       "  </thead>\n",
       "  <tbody>\n",
       "    <tr>\n",
       "      <th>0</th>\n",
       "      <td>201-901</td>\n",
       "      <td>201</td>\n",
       "      <td>901</td>\n",
       "    </tr>\n",
       "    <tr>\n",
       "      <th>1</th>\n",
       "      <td>201-902</td>\n",
       "      <td>201</td>\n",
       "      <td>902</td>\n",
       "    </tr>\n",
       "    <tr>\n",
       "      <th>2</th>\n",
       "      <td>201-903</td>\n",
       "      <td>201</td>\n",
       "      <td>903</td>\n",
       "    </tr>\n",
       "    <tr>\n",
       "      <th>3</th>\n",
       "      <td>201-904</td>\n",
       "      <td>201</td>\n",
       "      <td>904</td>\n",
       "    </tr>\n",
       "    <tr>\n",
       "      <th>4</th>\n",
       "      <td>201-905</td>\n",
       "      <td>201</td>\n",
       "      <td>905</td>\n",
       "    </tr>\n",
       "  </tbody>\n",
       "</table>\n",
       "</div>"
      ],
      "text/plain": [
       "      Well    X    Y\n",
       "0  201-901  201  901\n",
       "1  201-902  201  902\n",
       "2  201-903  201  903\n",
       "3  201-904  201  904\n",
       "4  201-905  201  905"
      ]
     },
     "execution_count": 7,
     "metadata": {
      "tags": []
     },
     "output_type": "execute_result"
    }
   ],
   "source": [
    "uploaded = files.upload()\n",
    "data_for_prediction = pd.read_csv(io.BytesIO(uploaded['Empty_part.csv']))\n",
    "\n",
    "data_for_prediction.head()\n"
   ]
  },
  {
   "cell_type": "markdown",
   "metadata": {
    "id": "ZnPBv4jW0aW9"
   },
   "source": [
    "# Простая модель с байесовской оптимизацией"
   ]
  },
  {
   "cell_type": "code",
   "execution_count": 8,
   "metadata": {
    "id": "kJ5jTW8TQDDc"
   },
   "outputs": [],
   "source": [
    "import catboost"
   ]
  },
  {
   "cell_type": "code",
   "execution_count": 8,
   "metadata": {
    "id": "JTmln_jPwkC6"
   },
   "outputs": [],
   "source": [
    "class Optimizer:\n",
    "  best_score = None\n",
    "  opt = None\n",
    "\n",
    "  def __init__(self, model, X_train, y_train, categorical_indices=None, n_fold=3,\n",
    "               seed=1, early_stopping_rounds=30, is_shuffle=True):\n",
    "    self.model = model\n",
    "    self.X_train = X_train\n",
    "    self.y_train = y_train\n",
    "    self.categorical_indices = categorical_indices\n",
    "    self.n_fold = 3\n",
    "    self.seed = seed\n",
    "    self.early_stopping_rounds = early_stopping_rounds\n",
    "    self.is_shuffle = is_shuffle\n",
    "\n",
    "  def update_model(self, **kwords):\n",
    "    for k, v in kwords.items():\n",
    "      setattr(self.model, k, v) \n",
    "\n",
    "  def evaluate_model(self):\n",
    "    pass\n",
    "\n",
    "  def optimize(self, param_space, max_evals=10, n_random_starts=2):\n",
    "    start_time = time.time()\n",
    "\n",
    "    @use_named_args(param_space)\n",
    "    def _minimize(**params):\n",
    "      self.model.set_params(**params)\n",
    "      return self.evaluate_model()\n",
    "    \n",
    "    opt = gp_minimize(_minimize, param_space, n_calls=max_evals, \n",
    "                      n_random_starts=n_random_starts, random_state=1,\n",
    "                      n_jobs=-1)\n",
    "    best_values = opt.x\n",
    "    optimal_values = dict(zip([param.name for param in param_space], best_values))\n",
    "    best_score = opt.fun\n",
    "    self.best_score = best_score\n",
    "    self.opt = opt\n",
    "\n",
    "\n",
    "    print(f'optimal parameters: {optimal_values}\\noptimal scores: {best_score}'\n",
    "    + f'\\ntime: {time.time() - start_time}')\n",
    "    self.update_model(**optimal_values)\n",
    "    plot_convergence(opt)\n",
    "    return optimal_values\n",
    "\n",
    "class CatBoostOpt(Optimizer):\n",
    "  def evaluate_model(self):\n",
    "    validation_scores = catboost.cv(catboost.Pool(self.X_train, self.y_train, \n",
    "                                                  cat_features=self.categorical_indices),\n",
    "                                    self.model.get_params(), nfold=self.n_fold, \n",
    "                                    seed=self.seed, \n",
    "                                    early_stopping_rounds=self.early_stopping_rounds,\n",
    "                                    shuffle=self.is_shuffle, plot=False)\n",
    "    self.scores = validation_scores\n",
    "    test_scores = validation_scores['test-RMSE-mean']\n",
    "    best_metric = test_scores.min()\n",
    "    return best_metric\n",
    " "
   ]
  },
  {
   "cell_type": "code",
   "execution_count": null,
   "metadata": {
    "id": "qANsvoDnZkY1"
   },
   "outputs": [],
   "source": []
  },
  {
   "cell_type": "code",
   "execution_count": null,
   "metadata": {
    "id": "ftvfyg92ZkFz"
   },
   "outputs": [],
   "source": []
  },
  {
   "cell_type": "markdown",
   "metadata": {
    "id": "6mlzB4svZlTZ"
   },
   "source": [
    "# **Простая модель**"
   ]
  },
  {
   "cell_type": "markdown",
   "metadata": {
    "id": "bIMcKzBdhEYV"
   },
   "source": [
    "## **без категориальных признаков**"
   ]
  },
  {
   "cell_type": "code",
   "execution_count": null,
   "metadata": {
    "colab": {
     "base_uri": "https://localhost:8080/",
     "height": 419
    },
    "id": "phG9JjFsaD4W",
    "outputId": "b29d7847-763d-4e39-abd0-def4e1d1f8cf"
   },
   "outputs": [
    {
     "data": {
      "text/html": [
       "<div>\n",
       "<style scoped>\n",
       "    .dataframe tbody tr th:only-of-type {\n",
       "        vertical-align: middle;\n",
       "    }\n",
       "\n",
       "    .dataframe tbody tr th {\n",
       "        vertical-align: top;\n",
       "    }\n",
       "\n",
       "    .dataframe thead th {\n",
       "        text-align: right;\n",
       "    }\n",
       "</style>\n",
       "<table border=\"1\" class=\"dataframe\">\n",
       "  <thead>\n",
       "    <tr style=\"text-align: right;\">\n",
       "      <th></th>\n",
       "      <th>X</th>\n",
       "      <th>Y</th>\n",
       "    </tr>\n",
       "  </thead>\n",
       "  <tbody>\n",
       "    <tr>\n",
       "      <th>102</th>\n",
       "      <td>235</td>\n",
       "      <td>924</td>\n",
       "    </tr>\n",
       "    <tr>\n",
       "      <th>55</th>\n",
       "      <td>218</td>\n",
       "      <td>929</td>\n",
       "    </tr>\n",
       "    <tr>\n",
       "      <th>98</th>\n",
       "      <td>232</td>\n",
       "      <td>929</td>\n",
       "    </tr>\n",
       "    <tr>\n",
       "      <th>4</th>\n",
       "      <td>202</td>\n",
       "      <td>925</td>\n",
       "    </tr>\n",
       "    <tr>\n",
       "      <th>135</th>\n",
       "      <td>245</td>\n",
       "      <td>923</td>\n",
       "    </tr>\n",
       "    <tr>\n",
       "      <th>...</th>\n",
       "      <td>...</td>\n",
       "      <td>...</td>\n",
       "    </tr>\n",
       "    <tr>\n",
       "      <th>129</th>\n",
       "      <td>244</td>\n",
       "      <td>920</td>\n",
       "    </tr>\n",
       "    <tr>\n",
       "      <th>79</th>\n",
       "      <td>226</td>\n",
       "      <td>926</td>\n",
       "    </tr>\n",
       "    <tr>\n",
       "      <th>133</th>\n",
       "      <td>245</td>\n",
       "      <td>908</td>\n",
       "    </tr>\n",
       "    <tr>\n",
       "      <th>72</th>\n",
       "      <td>224</td>\n",
       "      <td>915</td>\n",
       "    </tr>\n",
       "    <tr>\n",
       "      <th>37</th>\n",
       "      <td>212</td>\n",
       "      <td>905</td>\n",
       "    </tr>\n",
       "  </tbody>\n",
       "</table>\n",
       "<p>110 rows × 2 columns</p>\n",
       "</div>"
      ],
      "text/plain": [
       "       X    Y\n",
       "102  235  924\n",
       "55   218  929\n",
       "98   232  929\n",
       "4    202  925\n",
       "135  245  923\n",
       "..   ...  ...\n",
       "129  244  920\n",
       "79   226  926\n",
       "133  245  908\n",
       "72   224  915\n",
       "37   212  905\n",
       "\n",
       "[110 rows x 2 columns]"
      ]
     },
     "execution_count": 9,
     "metadata": {
      "tags": []
     },
     "output_type": "execute_result"
    }
   ],
   "source": [
    "\n",
    "X_train"
   ]
  },
  {
   "cell_type": "code",
   "execution_count": null,
   "metadata": {
    "colab": {
     "base_uri": "https://localhost:8080/"
    },
    "id": "d6TNuKwH0LDU",
    "outputId": "89edefe8-cb17-4259-af52-583418112409"
   },
   "outputs": [
    {
     "data": {
      "text/plain": [
       "0.06564822517758172"
      ]
     },
     "execution_count": 48,
     "metadata": {
      "tags": []
     },
     "output_type": "execute_result"
    }
   ],
   "source": [
    "X_train, X_test, y_train, y_test = train_test_split(df.drop(['Well', 'NTG', 'X_cat', 'Y_cat'], axis=1), df['NTG'], shuffle=True, random_state=1, test_size=0.2)\n",
    "default_cb = CatBoostRegressor(loss_function='RMSE', eval_metric='RMSE', silent=True, depth=6, l2_leaf_reg=8, boosting_type='Ordered')\n",
    "default_cb_opt = CatBoostOpt(default_cb, X_train, y_train)\n",
    "default_cb_opt.evaluate_model()"
   ]
  },
  {
   "cell_type": "code",
   "execution_count": null,
   "metadata": {
    "colab": {
     "base_uri": "https://localhost:8080/"
    },
    "id": "pLFRMpbRd43f",
    "outputId": "81862f86-7cb6-40ad-9474-c900ecebb990"
   },
   "outputs": [
    {
     "data": {
      "text/plain": [
       "{'depth': 3,\n",
       " 'eval_metric': 'RMSE',\n",
       " 'l2_leaf_reg': 3,\n",
       " 'loss_function': 'RMSE',\n",
       " 'silent': True}"
      ]
     },
     "execution_count": 30,
     "metadata": {
      "tags": []
     },
     "output_type": "execute_result"
    }
   ],
   "source": [
    "default_cb.get_params()"
   ]
  },
  {
   "cell_type": "code",
   "execution_count": null,
   "metadata": {
    "colab": {
     "base_uri": "https://localhost:8080/"
    },
    "id": "pyJOcir50K4x",
    "outputId": "60af1965-7c3c-4f47-b6e8-15a52cdbf25d"
   },
   "outputs": [
    {
     "data": {
      "text/plain": [
       "0.055790072336496827"
      ]
     },
     "execution_count": 31,
     "metadata": {
      "tags": []
     },
     "output_type": "execute_result"
    }
   ],
   "source": [
    "mean_squared_error(y_test, default_cb.fit(X_train, y_train).predict(X_test), squared=False)"
   ]
  },
  {
   "cell_type": "code",
   "execution_count": null,
   "metadata": {
    "id": "H7YU6yhk0KxI"
   },
   "outputs": [],
   "source": []
  },
  {
   "cell_type": "markdown",
   "metadata": {
    "id": "LStfYhbkkQqp"
   },
   "source": [
    "### Поиск по Байесу"
   ]
  },
  {
   "cell_type": "code",
   "execution_count": null,
   "metadata": {
    "id": "9EpTqn9skZKA"
   },
   "outputs": [],
   "source": []
  },
  {
   "cell_type": "code",
   "execution_count": null,
   "metadata": {
    "id": "k_FWpwMbkZFg"
   },
   "outputs": [],
   "source": []
  },
  {
   "cell_type": "code",
   "execution_count": null,
   "metadata": {
    "id": "UywHuMzwkZB3"
   },
   "outputs": [],
   "source": []
  },
  {
   "cell_type": "code",
   "execution_count": null,
   "metadata": {
    "id": "A3FedrExkY8t"
   },
   "outputs": [],
   "source": []
  },
  {
   "cell_type": "code",
   "execution_count": null,
   "metadata": {
    "id": "AiJE79QDkY5V"
   },
   "outputs": [],
   "source": []
  },
  {
   "cell_type": "markdown",
   "metadata": {
    "id": "DPF2oVdGhPjM"
   },
   "source": [
    "## **С категориальными признаками**\n"
   ]
  },
  {
   "cell_type": "code",
   "execution_count": null,
   "metadata": {
    "id": "2rxHsW5T0KpF"
   },
   "outputs": [],
   "source": [
    "df['X_cat'] = df['X'].astype('category')\n",
    "df['Y_cat'] = df['Y'].astype('category')"
   ]
  },
  {
   "cell_type": "code",
   "execution_count": null,
   "metadata": {
    "colab": {
     "base_uri": "https://localhost:8080/",
     "height": 419
    },
    "id": "AgnPjb_e0Kgc",
    "outputId": "7d9f58b0-48aa-43c0-f4d4-21aef93cb150"
   },
   "outputs": [
    {
     "data": {
      "text/html": [
       "<div>\n",
       "<style scoped>\n",
       "    .dataframe tbody tr th:only-of-type {\n",
       "        vertical-align: middle;\n",
       "    }\n",
       "\n",
       "    .dataframe tbody tr th {\n",
       "        vertical-align: top;\n",
       "    }\n",
       "\n",
       "    .dataframe thead th {\n",
       "        text-align: right;\n",
       "    }\n",
       "</style>\n",
       "<table border=\"1\" class=\"dataframe\">\n",
       "  <thead>\n",
       "    <tr style=\"text-align: right;\">\n",
       "      <th></th>\n",
       "      <th>X</th>\n",
       "      <th>Y</th>\n",
       "      <th>X_cat</th>\n",
       "      <th>Y_cat</th>\n",
       "    </tr>\n",
       "  </thead>\n",
       "  <tbody>\n",
       "    <tr>\n",
       "      <th>102</th>\n",
       "      <td>235</td>\n",
       "      <td>924</td>\n",
       "      <td>235</td>\n",
       "      <td>924</td>\n",
       "    </tr>\n",
       "    <tr>\n",
       "      <th>55</th>\n",
       "      <td>218</td>\n",
       "      <td>929</td>\n",
       "      <td>218</td>\n",
       "      <td>929</td>\n",
       "    </tr>\n",
       "    <tr>\n",
       "      <th>98</th>\n",
       "      <td>232</td>\n",
       "      <td>929</td>\n",
       "      <td>232</td>\n",
       "      <td>929</td>\n",
       "    </tr>\n",
       "    <tr>\n",
       "      <th>4</th>\n",
       "      <td>202</td>\n",
       "      <td>925</td>\n",
       "      <td>202</td>\n",
       "      <td>925</td>\n",
       "    </tr>\n",
       "    <tr>\n",
       "      <th>135</th>\n",
       "      <td>245</td>\n",
       "      <td>923</td>\n",
       "      <td>245</td>\n",
       "      <td>923</td>\n",
       "    </tr>\n",
       "    <tr>\n",
       "      <th>...</th>\n",
       "      <td>...</td>\n",
       "      <td>...</td>\n",
       "      <td>...</td>\n",
       "      <td>...</td>\n",
       "    </tr>\n",
       "    <tr>\n",
       "      <th>129</th>\n",
       "      <td>244</td>\n",
       "      <td>920</td>\n",
       "      <td>244</td>\n",
       "      <td>920</td>\n",
       "    </tr>\n",
       "    <tr>\n",
       "      <th>79</th>\n",
       "      <td>226</td>\n",
       "      <td>926</td>\n",
       "      <td>226</td>\n",
       "      <td>926</td>\n",
       "    </tr>\n",
       "    <tr>\n",
       "      <th>133</th>\n",
       "      <td>245</td>\n",
       "      <td>908</td>\n",
       "      <td>245</td>\n",
       "      <td>908</td>\n",
       "    </tr>\n",
       "    <tr>\n",
       "      <th>72</th>\n",
       "      <td>224</td>\n",
       "      <td>915</td>\n",
       "      <td>224</td>\n",
       "      <td>915</td>\n",
       "    </tr>\n",
       "    <tr>\n",
       "      <th>37</th>\n",
       "      <td>212</td>\n",
       "      <td>905</td>\n",
       "      <td>212</td>\n",
       "      <td>905</td>\n",
       "    </tr>\n",
       "  </tbody>\n",
       "</table>\n",
       "<p>110 rows × 4 columns</p>\n",
       "</div>"
      ],
      "text/plain": [
       "       X    Y X_cat Y_cat\n",
       "102  235  924   235   924\n",
       "55   218  929   218   929\n",
       "98   232  929   232   929\n",
       "4    202  925   202   925\n",
       "135  245  923   245   923\n",
       "..   ...  ...   ...   ...\n",
       "129  244  920   244   920\n",
       "79   226  926   226   926\n",
       "133  245  908   245   908\n",
       "72   224  915   224   915\n",
       "37   212  905   212   905\n",
       "\n",
       "[110 rows x 4 columns]"
      ]
     },
     "execution_count": 37,
     "metadata": {
      "tags": []
     },
     "output_type": "execute_result"
    }
   ],
   "source": [
    "\n",
    "\n",
    "X_train"
   ]
  },
  {
   "cell_type": "code",
   "execution_count": null,
   "metadata": {
    "colab": {
     "base_uri": "https://localhost:8080/"
    },
    "id": "ILhzniNt0KZ3",
    "outputId": "4e9dfaf6-5977-470e-f31c-367d5843bd13"
   },
   "outputs": [
    {
     "name": "stdout",
     "output_type": "stream",
     "text": [
      "Stopped by overfitting detector  (30 iterations wait)\n"
     ]
    },
    {
     "data": {
      "text/plain": [
       "0.0694800927213708"
      ]
     },
     "execution_count": 49,
     "metadata": {
      "tags": []
     },
     "output_type": "execute_result"
    }
   ],
   "source": [
    "X_train, X_test, y_train, y_test = train_test_split(df.drop(['Well', 'NTG'], axis=1), df['NTG'], shuffle=True, random_state=1, test_size=0.2)\n",
    "default_cb = CatBoostRegressor(loss_function='RMSE', eval_metric='RMSE', depth=4,\n",
    "                               l2_leaf_reg=6, n_estimators=2000, silent=True, boosting_type='Ordered')\n",
    "default_cb_opt = CatBoostOpt(default_cb, X_train, y_train, [2, 3])\n",
    "default_cb_opt.evaluate_model()"
   ]
  },
  {
   "cell_type": "code",
   "execution_count": null,
   "metadata": {
    "colab": {
     "base_uri": "https://localhost:8080/"
    },
    "id": "RfLJJFkYiQIK",
    "outputId": "ad21d0c2-9fef-497c-e75d-d46888f262a8"
   },
   "outputs": [
    {
     "data": {
      "text/plain": [
       "0.059914464951747626"
      ]
     },
     "execution_count": 36,
     "metadata": {
      "tags": []
     },
     "output_type": "execute_result"
    }
   ],
   "source": [
    "mean_squared_error(y_test, default_cb.fit(X_train, y_train, cat_features=[2, 3]).predict(X_test), squared=False)"
   ]
  },
  {
   "cell_type": "code",
   "execution_count": null,
   "metadata": {
    "id": "LfVoPzNBjYKQ"
   },
   "outputs": [],
   "source": []
  },
  {
   "cell_type": "code",
   "execution_count": null,
   "metadata": {
    "id": "vR15_xFJpqSf"
   },
   "outputs": [],
   "source": []
  },
  {
   "cell_type": "markdown",
   "metadata": {
    "id": "qNjdSeTCsJI0"
   },
   "source": [
    "### Поиск по Байесу"
   ]
  },
  {
   "cell_type": "code",
   "execution_count": null,
   "metadata": {
    "id": "Ot7tJ4y9pp91"
   },
   "outputs": [],
   "source": []
  },
  {
   "cell_type": "code",
   "execution_count": null,
   "metadata": {
    "id": "fremwEYDpp17"
   },
   "outputs": [],
   "source": []
  },
  {
   "cell_type": "code",
   "execution_count": null,
   "metadata": {
    "id": "sdOTyD_GsRD9"
   },
   "outputs": [],
   "source": []
  },
  {
   "cell_type": "code",
   "execution_count": null,
   "metadata": {
    "id": "Ye02mNVVsQ86"
   },
   "outputs": [],
   "source": []
  },
  {
   "cell_type": "code",
   "execution_count": null,
   "metadata": {
    "id": "Mjyd9XxIsQ4A"
   },
   "outputs": [],
   "source": []
  },
  {
   "cell_type": "markdown",
   "metadata": {
    "id": "-fgpN3QUsU9l"
   },
   "source": [
    "## **С генерацией признаков**\n"
   ]
  },
  {
   "cell_type": "code",
   "execution_count": 9,
   "metadata": {
    "colab": {
     "base_uri": "https://localhost:8080/"
    },
    "id": "ls7CmHEasZES",
    "outputId": "ccf691d7-08d2-48a0-a344-c795dc2112e5"
   },
   "outputs": [
    {
     "name": "stdout",
     "output_type": "stream",
     "text": [
      "Entityset: NTG\n",
      "  Entities:\n",
      "    ntg [Rows: 138, Columns: 3]\n",
      "  Relationships:\n",
      "    No relationships\n",
      "Built 19 features\n",
      "Elapsed: 00:00 | Progress: 100%|██████████\n"
     ]
    }
   ],
   "source": [
    "es = ft.EntitySet(id='NTG')\n",
    "es.entity_from_dataframe(entity_id='ntg', dataframe=df.drop(['NTG', 'Well'], axis=1), index='Well')\n",
    "\n",
    "print(es)\n",
    "\n",
    "feature_matrix, feature_names = ft.dfs(entityset=es, target_entity='ntg', max_depth=2, verbose=1, \n",
    "                                       trans_primitives=[\"add_numeric\", \"multiply_numeric\", 'add_numeric_scalar', 'divide_by_feature',\n",
    "                                                         'divide_numeric_scalar', 'divide_numeric', 'scalar_subtract_numeric_feature', 'cum_mean',\n",
    "                                                         'subtract_numeric', 'subtract_numeric_scalar'])\n",
    "\n",
    "feature_matrix.drop(['X + 0', 'Y + 0', 'X / 1', 'Y / 1', '0 - X', '0 - Y', 'X - 0', 'Y - 0'], axis=1, inplace=True)"
   ]
  },
  {
   "cell_type": "code",
   "execution_count": 10,
   "metadata": {
    "colab": {
     "base_uri": "https://localhost:8080/",
     "height": 450
    },
    "id": "_K9ybztRwVyb",
    "outputId": "28df0f4c-4b14-4558-d25a-117308f2cb36"
   },
   "outputs": [
    {
     "data": {
      "text/html": [
       "<div>\n",
       "<style scoped>\n",
       "    .dataframe tbody tr th:only-of-type {\n",
       "        vertical-align: middle;\n",
       "    }\n",
       "\n",
       "    .dataframe tbody tr th {\n",
       "        vertical-align: top;\n",
       "    }\n",
       "\n",
       "    .dataframe thead th {\n",
       "        text-align: right;\n",
       "    }\n",
       "</style>\n",
       "<table border=\"1\" class=\"dataframe\">\n",
       "  <thead>\n",
       "    <tr style=\"text-align: right;\">\n",
       "      <th></th>\n",
       "      <th>X</th>\n",
       "      <th>Y</th>\n",
       "      <th>X + Y</th>\n",
       "      <th>CUM_MEAN(X)</th>\n",
       "      <th>CUM_MEAN(Y)</th>\n",
       "      <th>1 / X</th>\n",
       "      <th>1 / Y</th>\n",
       "      <th>X / Y</th>\n",
       "      <th>Y / X</th>\n",
       "      <th>X * Y</th>\n",
       "      <th>X - Y</th>\n",
       "    </tr>\n",
       "    <tr>\n",
       "      <th>Well</th>\n",
       "      <th></th>\n",
       "      <th></th>\n",
       "      <th></th>\n",
       "      <th></th>\n",
       "      <th></th>\n",
       "      <th></th>\n",
       "      <th></th>\n",
       "      <th></th>\n",
       "      <th></th>\n",
       "      <th></th>\n",
       "      <th></th>\n",
       "    </tr>\n",
       "  </thead>\n",
       "  <tbody>\n",
       "    <tr>\n",
       "      <th>0</th>\n",
       "      <td>201</td>\n",
       "      <td>907</td>\n",
       "      <td>1108</td>\n",
       "      <td>201.000000</td>\n",
       "      <td>907.000000</td>\n",
       "      <td>0.004975</td>\n",
       "      <td>0.001103</td>\n",
       "      <td>0.221610</td>\n",
       "      <td>4.512438</td>\n",
       "      <td>182307</td>\n",
       "      <td>-706</td>\n",
       "    </tr>\n",
       "    <tr>\n",
       "      <th>1</th>\n",
       "      <td>201</td>\n",
       "      <td>914</td>\n",
       "      <td>1115</td>\n",
       "      <td>201.000000</td>\n",
       "      <td>910.500000</td>\n",
       "      <td>0.004975</td>\n",
       "      <td>0.001094</td>\n",
       "      <td>0.219912</td>\n",
       "      <td>4.547264</td>\n",
       "      <td>183714</td>\n",
       "      <td>-713</td>\n",
       "    </tr>\n",
       "    <tr>\n",
       "      <th>2</th>\n",
       "      <td>201</td>\n",
       "      <td>924</td>\n",
       "      <td>1125</td>\n",
       "      <td>201.000000</td>\n",
       "      <td>915.000000</td>\n",
       "      <td>0.004975</td>\n",
       "      <td>0.001082</td>\n",
       "      <td>0.217532</td>\n",
       "      <td>4.597015</td>\n",
       "      <td>185724</td>\n",
       "      <td>-723</td>\n",
       "    </tr>\n",
       "    <tr>\n",
       "      <th>3</th>\n",
       "      <td>202</td>\n",
       "      <td>922</td>\n",
       "      <td>1124</td>\n",
       "      <td>201.250000</td>\n",
       "      <td>916.750000</td>\n",
       "      <td>0.004950</td>\n",
       "      <td>0.001085</td>\n",
       "      <td>0.219089</td>\n",
       "      <td>4.564356</td>\n",
       "      <td>186244</td>\n",
       "      <td>-720</td>\n",
       "    </tr>\n",
       "    <tr>\n",
       "      <th>4</th>\n",
       "      <td>202</td>\n",
       "      <td>925</td>\n",
       "      <td>1127</td>\n",
       "      <td>201.400000</td>\n",
       "      <td>918.400000</td>\n",
       "      <td>0.004950</td>\n",
       "      <td>0.001081</td>\n",
       "      <td>0.218378</td>\n",
       "      <td>4.579208</td>\n",
       "      <td>186850</td>\n",
       "      <td>-723</td>\n",
       "    </tr>\n",
       "    <tr>\n",
       "      <th>...</th>\n",
       "      <td>...</td>\n",
       "      <td>...</td>\n",
       "      <td>...</td>\n",
       "      <td>...</td>\n",
       "      <td>...</td>\n",
       "      <td>...</td>\n",
       "      <td>...</td>\n",
       "      <td>...</td>\n",
       "      <td>...</td>\n",
       "      <td>...</td>\n",
       "      <td>...</td>\n",
       "    </tr>\n",
       "    <tr>\n",
       "      <th>133</th>\n",
       "      <td>245</td>\n",
       "      <td>908</td>\n",
       "      <td>1153</td>\n",
       "      <td>222.529851</td>\n",
       "      <td>916.664179</td>\n",
       "      <td>0.004082</td>\n",
       "      <td>0.001101</td>\n",
       "      <td>0.269824</td>\n",
       "      <td>3.706122</td>\n",
       "      <td>222460</td>\n",
       "      <td>-663</td>\n",
       "    </tr>\n",
       "    <tr>\n",
       "      <th>134</th>\n",
       "      <td>245</td>\n",
       "      <td>911</td>\n",
       "      <td>1156</td>\n",
       "      <td>222.696296</td>\n",
       "      <td>916.622222</td>\n",
       "      <td>0.004082</td>\n",
       "      <td>0.001098</td>\n",
       "      <td>0.268935</td>\n",
       "      <td>3.718367</td>\n",
       "      <td>223195</td>\n",
       "      <td>-666</td>\n",
       "    </tr>\n",
       "    <tr>\n",
       "      <th>135</th>\n",
       "      <td>245</td>\n",
       "      <td>923</td>\n",
       "      <td>1168</td>\n",
       "      <td>222.860294</td>\n",
       "      <td>916.669118</td>\n",
       "      <td>0.004082</td>\n",
       "      <td>0.001083</td>\n",
       "      <td>0.265439</td>\n",
       "      <td>3.767347</td>\n",
       "      <td>226135</td>\n",
       "      <td>-678</td>\n",
       "    </tr>\n",
       "    <tr>\n",
       "      <th>136</th>\n",
       "      <td>246</td>\n",
       "      <td>905</td>\n",
       "      <td>1151</td>\n",
       "      <td>223.029197</td>\n",
       "      <td>916.583942</td>\n",
       "      <td>0.004065</td>\n",
       "      <td>0.001105</td>\n",
       "      <td>0.271823</td>\n",
       "      <td>3.678862</td>\n",
       "      <td>222630</td>\n",
       "      <td>-659</td>\n",
       "    </tr>\n",
       "    <tr>\n",
       "      <th>137</th>\n",
       "      <td>246</td>\n",
       "      <td>923</td>\n",
       "      <td>1169</td>\n",
       "      <td>223.195652</td>\n",
       "      <td>916.630435</td>\n",
       "      <td>0.004065</td>\n",
       "      <td>0.001083</td>\n",
       "      <td>0.266522</td>\n",
       "      <td>3.752033</td>\n",
       "      <td>227058</td>\n",
       "      <td>-677</td>\n",
       "    </tr>\n",
       "  </tbody>\n",
       "</table>\n",
       "<p>138 rows × 11 columns</p>\n",
       "</div>"
      ],
      "text/plain": [
       "        X    Y  X + Y  CUM_MEAN(X)  ...     X / Y     Y / X   X * Y  X - Y\n",
       "Well                                ...                                   \n",
       "0     201  907   1108   201.000000  ...  0.221610  4.512438  182307   -706\n",
       "1     201  914   1115   201.000000  ...  0.219912  4.547264  183714   -713\n",
       "2     201  924   1125   201.000000  ...  0.217532  4.597015  185724   -723\n",
       "3     202  922   1124   201.250000  ...  0.219089  4.564356  186244   -720\n",
       "4     202  925   1127   201.400000  ...  0.218378  4.579208  186850   -723\n",
       "...   ...  ...    ...          ...  ...       ...       ...     ...    ...\n",
       "133   245  908   1153   222.529851  ...  0.269824  3.706122  222460   -663\n",
       "134   245  911   1156   222.696296  ...  0.268935  3.718367  223195   -666\n",
       "135   245  923   1168   222.860294  ...  0.265439  3.767347  226135   -678\n",
       "136   246  905   1151   223.029197  ...  0.271823  3.678862  222630   -659\n",
       "137   246  923   1169   223.195652  ...  0.266522  3.752033  227058   -677\n",
       "\n",
       "[138 rows x 11 columns]"
      ]
     },
     "execution_count": 10,
     "metadata": {
      "tags": []
     },
     "output_type": "execute_result"
    }
   ],
   "source": [
    "feature_matrix"
   ]
  },
  {
   "cell_type": "code",
   "execution_count": 11,
   "metadata": {
    "colab": {
     "base_uri": "https://localhost:8080/",
     "height": 235
    },
    "id": "gEli4Soaszlc",
    "outputId": "000b900c-da07-45e6-da6f-e63ad22404f0"
   },
   "outputs": [
    {
     "data": {
      "text/html": [
       "<div>\n",
       "<style scoped>\n",
       "    .dataframe tbody tr th:only-of-type {\n",
       "        vertical-align: middle;\n",
       "    }\n",
       "\n",
       "    .dataframe tbody tr th {\n",
       "        vertical-align: top;\n",
       "    }\n",
       "\n",
       "    .dataframe thead th {\n",
       "        text-align: right;\n",
       "    }\n",
       "</style>\n",
       "<table border=\"1\" class=\"dataframe\">\n",
       "  <thead>\n",
       "    <tr style=\"text-align: right;\">\n",
       "      <th></th>\n",
       "      <th>X</th>\n",
       "      <th>Y</th>\n",
       "      <th>X + Y</th>\n",
       "      <th>CUM_MEAN(X)</th>\n",
       "      <th>CUM_MEAN(Y)</th>\n",
       "      <th>1 / X</th>\n",
       "      <th>1 / Y</th>\n",
       "      <th>X / Y</th>\n",
       "      <th>Y / X</th>\n",
       "      <th>X * Y</th>\n",
       "      <th>X - Y</th>\n",
       "      <th>X_cat</th>\n",
       "      <th>Y_cat</th>\n",
       "    </tr>\n",
       "    <tr>\n",
       "      <th>Well</th>\n",
       "      <th></th>\n",
       "      <th></th>\n",
       "      <th></th>\n",
       "      <th></th>\n",
       "      <th></th>\n",
       "      <th></th>\n",
       "      <th></th>\n",
       "      <th></th>\n",
       "      <th></th>\n",
       "      <th></th>\n",
       "      <th></th>\n",
       "      <th></th>\n",
       "      <th></th>\n",
       "    </tr>\n",
       "  </thead>\n",
       "  <tbody>\n",
       "    <tr>\n",
       "      <th>102</th>\n",
       "      <td>235</td>\n",
       "      <td>924</td>\n",
       "      <td>1159</td>\n",
       "      <td>217.038835</td>\n",
       "      <td>916.786408</td>\n",
       "      <td>0.004255</td>\n",
       "      <td>0.001082</td>\n",
       "      <td>0.254329</td>\n",
       "      <td>3.931915</td>\n",
       "      <td>217140</td>\n",
       "      <td>-689</td>\n",
       "      <td>235</td>\n",
       "      <td>924</td>\n",
       "    </tr>\n",
       "    <tr>\n",
       "      <th>55</th>\n",
       "      <td>218</td>\n",
       "      <td>929</td>\n",
       "      <td>1147</td>\n",
       "      <td>209.464286</td>\n",
       "      <td>917.285714</td>\n",
       "      <td>0.004587</td>\n",
       "      <td>0.001076</td>\n",
       "      <td>0.234661</td>\n",
       "      <td>4.261468</td>\n",
       "      <td>202522</td>\n",
       "      <td>-711</td>\n",
       "      <td>218</td>\n",
       "      <td>929</td>\n",
       "    </tr>\n",
       "    <tr>\n",
       "      <th>98</th>\n",
       "      <td>232</td>\n",
       "      <td>929</td>\n",
       "      <td>1161</td>\n",
       "      <td>216.323232</td>\n",
       "      <td>916.828283</td>\n",
       "      <td>0.004310</td>\n",
       "      <td>0.001076</td>\n",
       "      <td>0.249731</td>\n",
       "      <td>4.004310</td>\n",
       "      <td>215528</td>\n",
       "      <td>-697</td>\n",
       "      <td>232</td>\n",
       "      <td>929</td>\n",
       "    </tr>\n",
       "    <tr>\n",
       "      <th>4</th>\n",
       "      <td>202</td>\n",
       "      <td>925</td>\n",
       "      <td>1127</td>\n",
       "      <td>201.400000</td>\n",
       "      <td>918.400000</td>\n",
       "      <td>0.004950</td>\n",
       "      <td>0.001081</td>\n",
       "      <td>0.218378</td>\n",
       "      <td>4.579208</td>\n",
       "      <td>186850</td>\n",
       "      <td>-723</td>\n",
       "      <td>202</td>\n",
       "      <td>925</td>\n",
       "    </tr>\n",
       "    <tr>\n",
       "      <th>135</th>\n",
       "      <td>245</td>\n",
       "      <td>923</td>\n",
       "      <td>1168</td>\n",
       "      <td>222.860294</td>\n",
       "      <td>916.669118</td>\n",
       "      <td>0.004082</td>\n",
       "      <td>0.001083</td>\n",
       "      <td>0.265439</td>\n",
       "      <td>3.767347</td>\n",
       "      <td>226135</td>\n",
       "      <td>-678</td>\n",
       "      <td>245</td>\n",
       "      <td>923</td>\n",
       "    </tr>\n",
       "  </tbody>\n",
       "</table>\n",
       "</div>"
      ],
      "text/plain": [
       "        X    Y  X + Y  CUM_MEAN(X)  ...   X * Y  X - Y  X_cat  Y_cat\n",
       "Well                                ...                             \n",
       "102   235  924   1159   217.038835  ...  217140   -689    235    924\n",
       "55    218  929   1147   209.464286  ...  202522   -711    218    929\n",
       "98    232  929   1161   216.323232  ...  215528   -697    232    929\n",
       "4     202  925   1127   201.400000  ...  186850   -723    202    925\n",
       "135   245  923   1168   222.860294  ...  226135   -678    245    923\n",
       "\n",
       "[5 rows x 13 columns]"
      ]
     },
     "execution_count": 11,
     "metadata": {
      "tags": []
     },
     "output_type": "execute_result"
    }
   ],
   "source": [
    "feature_matrix['X_cat'] = feature_matrix['X'].astype('category')\n",
    "feature_matrix['Y_cat'] = feature_matrix['Y'].astype('category')\n",
    "\n",
    "X_train, X_test, y_train, y_test = train_test_split(feature_matrix, df['NTG'], shuffle=True, random_state=1, test_size=0.2)\n",
    "X_train.head()"
   ]
  },
  {
   "cell_type": "code",
   "execution_count": 12,
   "metadata": {
    "id": "_fOS0LzNxT0B"
   },
   "outputs": [],
   "source": [
    "from sklearn.decomposition import PCA\n",
    "from sklearn.preprocessing import StandardScaler"
   ]
  },
  {
   "cell_type": "code",
   "execution_count": 14,
   "metadata": {
    "colab": {
     "base_uri": "https://localhost:8080/",
     "height": 235
    },
    "id": "_mn--4Pcs0yO",
    "outputId": "b5e30015-2361-4897-bb1a-d9cf572f14b6"
   },
   "outputs": [
    {
     "data": {
      "text/html": [
       "<div>\n",
       "<style scoped>\n",
       "    .dataframe tbody tr th:only-of-type {\n",
       "        vertical-align: middle;\n",
       "    }\n",
       "\n",
       "    .dataframe tbody tr th {\n",
       "        vertical-align: top;\n",
       "    }\n",
       "\n",
       "    .dataframe thead th {\n",
       "        text-align: right;\n",
       "    }\n",
       "</style>\n",
       "<table border=\"1\" class=\"dataframe\">\n",
       "  <thead>\n",
       "    <tr style=\"text-align: right;\">\n",
       "      <th></th>\n",
       "      <th>X</th>\n",
       "      <th>Y</th>\n",
       "      <th>X + Y</th>\n",
       "      <th>CUM_MEAN(X)</th>\n",
       "      <th>CUM_MEAN(Y)</th>\n",
       "      <th>1 / X</th>\n",
       "      <th>1 / Y</th>\n",
       "      <th>X / Y</th>\n",
       "      <th>Y / X</th>\n",
       "      <th>X * Y</th>\n",
       "      <th>X - Y</th>\n",
       "      <th>X_cat</th>\n",
       "      <th>Y_cat</th>\n",
       "      <th>pca_1</th>\n",
       "      <th>pca_2</th>\n",
       "    </tr>\n",
       "    <tr>\n",
       "      <th>Well</th>\n",
       "      <th></th>\n",
       "      <th></th>\n",
       "      <th></th>\n",
       "      <th></th>\n",
       "      <th></th>\n",
       "      <th></th>\n",
       "      <th></th>\n",
       "      <th></th>\n",
       "      <th></th>\n",
       "      <th></th>\n",
       "      <th></th>\n",
       "      <th></th>\n",
       "      <th></th>\n",
       "      <th></th>\n",
       "      <th></th>\n",
       "    </tr>\n",
       "  </thead>\n",
       "  <tbody>\n",
       "    <tr>\n",
       "      <th>102</th>\n",
       "      <td>235</td>\n",
       "      <td>924</td>\n",
       "      <td>1159</td>\n",
       "      <td>217.038835</td>\n",
       "      <td>916.786408</td>\n",
       "      <td>0.004255</td>\n",
       "      <td>0.001082</td>\n",
       "      <td>0.254329</td>\n",
       "      <td>3.931915</td>\n",
       "      <td>217140</td>\n",
       "      <td>-689</td>\n",
       "      <td>235</td>\n",
       "      <td>924</td>\n",
       "      <td>0.012023</td>\n",
       "      <td>-1.957865</td>\n",
       "    </tr>\n",
       "    <tr>\n",
       "      <th>55</th>\n",
       "      <td>218</td>\n",
       "      <td>929</td>\n",
       "      <td>1147</td>\n",
       "      <td>209.464286</td>\n",
       "      <td>917.285714</td>\n",
       "      <td>0.004587</td>\n",
       "      <td>0.001076</td>\n",
       "      <td>0.234661</td>\n",
       "      <td>4.261468</td>\n",
       "      <td>202522</td>\n",
       "      <td>-711</td>\n",
       "      <td>218</td>\n",
       "      <td>929</td>\n",
       "      <td>-1.276518</td>\n",
       "      <td>1.601702</td>\n",
       "    </tr>\n",
       "    <tr>\n",
       "      <th>98</th>\n",
       "      <td>232</td>\n",
       "      <td>929</td>\n",
       "      <td>1161</td>\n",
       "      <td>216.323232</td>\n",
       "      <td>916.828283</td>\n",
       "      <td>0.004310</td>\n",
       "      <td>0.001076</td>\n",
       "      <td>0.249731</td>\n",
       "      <td>4.004310</td>\n",
       "      <td>215528</td>\n",
       "      <td>-697</td>\n",
       "      <td>232</td>\n",
       "      <td>929</td>\n",
       "      <td>-0.552361</td>\n",
       "      <td>-1.197596</td>\n",
       "    </tr>\n",
       "    <tr>\n",
       "      <th>4</th>\n",
       "      <td>202</td>\n",
       "      <td>925</td>\n",
       "      <td>1127</td>\n",
       "      <td>201.400000</td>\n",
       "      <td>918.400000</td>\n",
       "      <td>0.004950</td>\n",
       "      <td>0.001081</td>\n",
       "      <td>0.218378</td>\n",
       "      <td>4.579208</td>\n",
       "      <td>186850</td>\n",
       "      <td>-723</td>\n",
       "      <td>202</td>\n",
       "      <td>925</td>\n",
       "      <td>-1.776760</td>\n",
       "      <td>4.707282</td>\n",
       "    </tr>\n",
       "    <tr>\n",
       "      <th>135</th>\n",
       "      <td>245</td>\n",
       "      <td>923</td>\n",
       "      <td>1168</td>\n",
       "      <td>222.860294</td>\n",
       "      <td>916.669118</td>\n",
       "      <td>0.004082</td>\n",
       "      <td>0.001083</td>\n",
       "      <td>0.265439</td>\n",
       "      <td>3.767347</td>\n",
       "      <td>226135</td>\n",
       "      <td>-678</td>\n",
       "      <td>245</td>\n",
       "      <td>923</td>\n",
       "      <td>0.611120</td>\n",
       "      <td>-4.005533</td>\n",
       "    </tr>\n",
       "  </tbody>\n",
       "</table>\n",
       "</div>"
      ],
      "text/plain": [
       "        X    Y  X + Y  CUM_MEAN(X)  ...  X_cat  Y_cat     pca_1     pca_2\n",
       "Well                                ...                                  \n",
       "102   235  924   1159   217.038835  ...    235    924  0.012023 -1.957865\n",
       "55    218  929   1147   209.464286  ...    218    929 -1.276518  1.601702\n",
       "98    232  929   1161   216.323232  ...    232    929 -0.552361 -1.197596\n",
       "4     202  925   1127   201.400000  ...    202    925 -1.776760  4.707282\n",
       "135   245  923   1168   222.860294  ...    245    923  0.611120 -4.005533\n",
       "\n",
       "[5 rows x 15 columns]"
      ]
     },
     "execution_count": 14,
     "metadata": {
      "tags": []
     },
     "output_type": "execute_result"
    }
   ],
   "source": [
    "scaler_1 = StandardScaler()\n",
    "scaler_2 = StandardScaler()\n",
    "pca_1 = PCA(n_components=1)\n",
    "pca_2 = PCA(n_components=1)\n",
    "scaler_1.fit(X_train[['X', 'Y']])\n",
    "scaler_2.fit(X_train.drop(['X_cat', 'Y_cat'], axis=1))\n",
    "X_train['pca_1'] = pca_1.fit_transform(scaler_1.transform(X_train[['X', 'Y']]))\n",
    "X_train['pca_2'] = pca_2.fit_transform(scaler_2.transform(X_train.drop(['X_cat', 'Y_cat'], axis=1)))\n",
    "\n",
    "X_test['pca_1'] = pca_1.transform(scaler_1.transform(X_test[['X', 'Y']]))\n",
    "X_test['pca_2'] = pca_2.transform(scaler_2.transform(X_test.drop(['X_cat', 'Y_cat'], axis=1)))\n",
    "\n",
    "X_train.head()"
   ]
  },
  {
   "cell_type": "code",
   "execution_count": null,
   "metadata": {
    "colab": {
     "base_uri": "https://localhost:8080/"
    },
    "id": "Z818bIARwgez",
    "outputId": "cb0a6f6e-f159-4ef5-c3f8-fc2a4454582c"
   },
   "outputs": [
    {
     "name": "stdout",
     "output_type": "stream",
     "text": [
      "Stopped by overfitting detector  (30 iterations wait)\n"
     ]
    },
    {
     "data": {
      "text/plain": [
       "0.06826121394415673"
      ]
     },
     "execution_count": 67,
     "metadata": {
      "tags": []
     },
     "output_type": "execute_result"
    }
   ],
   "source": [
    "default_cb = CatBoostRegressor(loss_function='RMSE', eval_metric='RMSE', depth=4,\n",
    "                               l2_leaf_reg=6, n_estimators=2000, silent=True, boosting_type='Ordered')\n",
    "default_cb_opt = CatBoostOpt(default_cb, X_train, y_train, [2, 3])\n",
    "default_cb_opt.evaluate_model()"
   ]
  },
  {
   "cell_type": "code",
   "execution_count": null,
   "metadata": {
    "colab": {
     "base_uri": "https://localhost:8080/",
     "height": 348
    },
    "id": "G1NOyyLJwgPt",
    "outputId": "beaf885e-3960-4a77-b6b1-38023fe7d418"
   },
   "outputs": [
    {
     "data": {
      "text/plain": [
       "<matplotlib.axes._subplots.AxesSubplot at 0x7f3918267c10>"
      ]
     },
     "execution_count": 68,
     "metadata": {
      "tags": []
     },
     "output_type": "execute_result"
    },
    {
     "data": {
      "image/png": "[encoded data removed]",
      "text/plain": [
       "<Figure size 432x288 with 2 Axes>"
      ]
     },
     "metadata": {
      "needs_background": "light",
      "tags": []
     },
     "output_type": "display_data"
    }
   ],
   "source": [
    "sns.heatmap(X_train.corr())"
   ]
  },
  {
   "cell_type": "code",
   "execution_count": null,
   "metadata": {
    "id": "Jok63Ox2yikc"
   },
   "outputs": [],
   "source": []
  },
  {
   "cell_type": "code",
   "execution_count": null,
   "metadata": {
    "id": "phHyRLUp5Tgm"
   },
   "outputs": [],
   "source": []
  },
  {
   "cell_type": "code",
   "execution_count": null,
   "metadata": {
    "id": "xJSxMbPV5TKi"
   },
   "outputs": [],
   "source": []
  },
  {
   "cell_type": "markdown",
   "metadata": {
    "id": "IiBcb_Gl5UCX"
   },
   "source": [
    "### Поиск по Байесу"
   ]
  },
  {
   "cell_type": "code",
   "execution_count": 17,
   "metadata": {
    "colab": {
     "base_uri": "https://localhost:8080/",
     "height": 1000
    },
    "id": "USmtMI745Zb1",
    "outputId": "99bf3e67-d6f0-4c5f-f92f-c144a3f80c18"
   },
   "outputs": [
    {
     "name": "stdout",
     "output_type": "stream",
     "text": [
      "Stopped by overfitting detector  (30 iterations wait)\n",
      "Stopped by overfitting detector  (30 iterations wait)\n",
      "Stopped by overfitting detector  (30 iterations wait)\n",
      "Stopped by overfitting detector  (30 iterations wait)\n",
      "Stopped by overfitting detector  (30 iterations wait)\n",
      "Stopped by overfitting detector  (30 iterations wait)\n",
      "Stopped by overfitting detector  (30 iterations wait)\n",
      "Stopped by overfitting detector  (30 iterations wait)\n",
      "Stopped by overfitting detector  (30 iterations wait)\n",
      "Stopped by overfitting detector  (30 iterations wait)\n",
      "Stopped by overfitting detector  (30 iterations wait)\n",
      "Stopped by overfitting detector  (30 iterations wait)\n",
      "Stopped by overfitting detector  (30 iterations wait)\n",
      "Stopped by overfitting detector  (30 iterations wait)\n",
      "Stopped by overfitting detector  (30 iterations wait)\n",
      "Stopped by overfitting detector  (30 iterations wait)\n",
      "Stopped by overfitting detector  (30 iterations wait)\n",
      "Stopped by overfitting detector  (30 iterations wait)\n",
      "Stopped by overfitting detector  (30 iterations wait)\n",
      "Stopped by overfitting detector  (30 iterations wait)\n",
      "Stopped by overfitting detector  (30 iterations wait)\n",
      "Stopped by overfitting detector  (30 iterations wait)\n",
      "Stopped by overfitting detector  (30 iterations wait)\n",
      "Stopped by overfitting detector  (30 iterations wait)\n",
      "Stopped by overfitting detector  (30 iterations wait)\n",
      "Stopped by overfitting detector  (30 iterations wait)\n",
      "Stopped by overfitting detector  (30 iterations wait)\n",
      "Stopped by overfitting detector  (30 iterations wait)\n",
      "Stopped by overfitting detector  (30 iterations wait)\n",
      "Stopped by overfitting detector  (30 iterations wait)\n",
      "Stopped by overfitting detector  (30 iterations wait)\n",
      "Stopped by overfitting detector  (30 iterations wait)\n",
      "Stopped by overfitting detector  (30 iterations wait)\n",
      "Stopped by overfitting detector  (30 iterations wait)\n",
      "Stopped by overfitting detector  (30 iterations wait)\n",
      "Stopped by overfitting detector  (30 iterations wait)\n",
      "Stopped by overfitting detector  (30 iterations wait)\n",
      "Stopped by overfitting detector  (30 iterations wait)\n",
      "Stopped by overfitting detector  (30 iterations wait)\n",
      "optimal parameters: {'learning_rate': 0.057646688719514214, 'max_depth': 2, 'colsample_bylevel': 0.9470404161922998, 'bagging_temperature': 9.948862090854407, 'random_strength': 1.7486992214666324, 'reg_lambda': 13.415780668613118}\n",
      "optimal scores: 0.06266412422076624\n",
      "time: 2696.69789147377\n"
     ]
    },
    {
     "data": {
      "image/png": "[encoded data removed]",
      "text/plain": [
       "<Figure size 432x288 with 1 Axes>"
      ]
     },
     "metadata": {
      "needs_background": "light",
      "tags": []
     },
     "output_type": "display_data"
    }
   ],
   "source": [
    "# X_train, X_test, y_train, y_test = train_test_split(df.drop(['Well', 'NTG'], axis=1), df['NTG'], shuffle=True, random_state=1, test_size=0.2)\n",
    "\n",
    "cbr = CatBoostRegressor(n_estimators=4000,\n",
    "                        loss_function='RMSE',\n",
    "                        eval_metric='RMSE',\n",
    "                        boosting_type='Ordered',\n",
    "                        random_seed=1,\n",
    "                        use_best_model=True,\n",
    "                        silent=True)\n",
    "cbr_optimizer = CatBoostOpt(cbr, X_train, y_train, [11, 12])\n",
    "param_space = [Real(0.01, 0.8, name='learning_rate'),\n",
    "               Integer(2, 10, name='max_depth'),\n",
    "               Real(0.5, 1.0, name='colsample_bylevel'),\n",
    "               Real(0, 100, name='bagging_temperature'),\n",
    "               Real(0, 100, name='random_strength'),\n",
    "               Real(1, 100, name='reg_lambda')]\n",
    "cbr_optimal = cbr_optimizer.optimize(param_space, max_evals=40, n_random_starts=4)"
   ]
  },
  {
   "cell_type": "code",
   "execution_count": null,
   "metadata": {
    "id": "fh0lOfenbOvj"
   },
   "outputs": [],
   "source": [
    "{'learning_rate': 0.057646688719514214, 'max_depth': 2, 'colsample_bylevel': 0.9470404161922998,\n",
    "'bagging_temperature': 9.948862090854407, 'random_strength': 1.7486992214666324, 'reg_lambda': 13.415780668613118}\n",
    "optimal scores: 0.06266412422076624"
   ]
  },
  {
   "cell_type": "code",
   "execution_count": 21,
   "metadata": {
    "colab": {
     "base_uri": "https://localhost:8080/",
     "height": 299
    },
    "id": "g0-WaXg6NqYM",
    "outputId": "99841497-6261-41a7-901f-9ab24e796334"
   },
   "outputs": [
    {
     "data": {
      "text/plain": [
       "{'learn': {'RMSE': 0.03619164648715606},\n",
       " 'validation': {'RMSE': 0.05655850329439623}}"
      ]
     },
     "execution_count": 21,
     "metadata": {
      "tags": []
     },
     "output_type": "execute_result"
    },
    {
     "data": {
      "image/png": "[encoded data removed]",
      "text/plain": [
       "<Figure size 432x288 with 1 Axes>"
      ]
     },
     "metadata": {
      "needs_background": "light",
      "tags": []
     },
     "output_type": "display_data"
    }
   ],
   "source": [
    "cat_feat_1 = CatBoostRegressor(loss_function='RMSE', learning_rate=0.057646688719514214, verbose=False, cat_features=[12, 11], random_state=1,\n",
    "                              depth=2, eval_metric='RMSE', reg_lambda=13.415780668613118, bagging_temperature=9.948862090854407,\n",
    "                              boosting_type='Ordered', random_strength=1.7486992214666324, iterations=1000, colsample_bylevel=0.9470404161922998)\n",
    "cat_feat_1.fit(X_train, y_train, eval_set=(X_test, y_test), cat_features=[12, 11])\n",
    "res = cat_feat_1.get_evals_result()\n",
    "x_ax = range(0, len(res['learn']['RMSE']))\n",
    "fig, ax = plt.subplots()\n",
    "ax.plot(x_ax, res['learn']['RMSE'], label='train')\n",
    "ax.plot(x_ax, res['validation']['RMSE'], label='test')\n",
    "ax.plot(x_ax, [0.047]*len(x_ax), label='test')\n",
    "ax.plot()\n",
    "ax.legend()\n",
    "\n",
    "cat_feat_1.best_score_"
   ]
  },
  {
   "cell_type": "code",
   "execution_count": 4,
   "metadata": {
    "colab": {
     "base_uri": "https://localhost:8080/",
     "height": 231
    },
    "id": "4jJkzBOdUDd_",
    "outputId": "e1e3e316-5667-4924-a31e-c3994f434750"
   },
   "outputs": [],
   "source": [
    "# cat_feat_1 = CatBoostRegressor(loss_function='RMSE', learning_rate=0.057646688719514214, verbose=False, cat_features=[12, 11], random_state=1,\n",
    "#                               depth=3, eval_metric='RMSE', reg_lambda=13.415780668613118, bagging_temperature=9.948862090854407,\n",
    "#                               boosting_type='Ordered', random_strength=1.7486992214666324, iterations=1000, colsample_bylevel=0.9470404161922998)\n",
    "# cat_feat_1.fit(X_train, y_train, eval_set=(X_test, y_test), cat_features=[12, 11])\n",
    "# res = cat_feat_1.get_evals_result()\n",
    "# x_ax = range(0, len(res['learn']['RMSE']))\n",
    "# fig, ax = plt.subplots()\n",
    "# ax.plot(x_ax, res['learn']['RMSE'], label='train')\n",
    "# ax.plot(x_ax, res['validation']['RMSE'], label='test')\n",
    "# ax.plot(x_ax, [0.047]*len(x_ax), label='test')\n",
    "# ax.plot()\n",
    "# ax.legend()\n",
    "\n",
    "# cat_feat_1.best_score_"
   ]
  },
  {
   "cell_type": "code",
   "execution_count": null,
   "metadata": {
    "id": "PdSFnXdBNqIf"
   },
   "outputs": [],
   "source": []
  },
  {
   "cell_type": "code",
   "execution_count": null,
   "metadata": {
    "id": "d4IxGcfENp4i"
   },
   "outputs": [],
   "source": []
  }
 ],
 "metadata": {
  "accelerator": "TPU",
  "colab": {
   "collapsed_sections": [
    "bIMcKzBdhEYV",
    "DPF2oVdGhPjM"
   ],
   "name": "3.ipynb",
   "provenance": []
  },
  "kernelspec": {
   "display_name": "Python 3",
   "language": "python",
   "name": "python3"
  },
  "language_info": {
   "codemirror_mode": {
    "name": "ipython",
    "version": 3
   },
   "file_extension": ".py",
   "mimetype": "text/x-python",
   "name": "python",
   "nbconvert_exporter": "python",
   "pygments_lexer": "ipython3",
   "version": "3.7.3"
  }
 },
 "nbformat": 4,
 "nbformat_minor": 1
}
